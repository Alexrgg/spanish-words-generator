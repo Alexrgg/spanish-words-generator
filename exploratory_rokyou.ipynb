{
 "cells": [
  {
   "cell_type": "code",
   "execution_count": 1,
   "metadata": {},
   "outputs": [],
   "source": [
    "#from mpl_toolkits.mplot3d import Axes3D\n",
    "#from sklearn.preprocessing import StandardScaler\n",
    "import matplotlib.pyplot as plt # plotting\n",
    "import numpy as np # linear algebra\n",
    "import os # accessing directory structure\n",
    "import pandas as pd # data processing, CSV file I/O (e.g. pd.read_csv)"
   ]
  },
  {
   "attachments": {},
   "cell_type": "markdown",
   "metadata": {},
   "source": [
    "Mostrar los datasets disponibles en la carpeta:"
   ]
  },
  {
   "cell_type": "code",
   "execution_count": 8,
   "metadata": {},
   "outputs": [
    {
     "name": "stdout",
     "output_type": "stream",
     "text": [
      "./data/.DS_Store\n",
      "./data/test_rockyou812.txt\n",
      "./data/test_phpbb812.txt\n",
      "./data/rockyou.txt\n"
     ]
    }
   ],
   "source": [
    "for dirname, _, filenames in os.walk('./data'):\n",
    "    for filename in filenames:\n",
    "        print(os.path.join(dirname, filename))"
   ]
  },
  {
   "cell_type": "markdown",
   "metadata": {},
   "source": [
    "Crear conjunto de train y de test:"
   ]
  },
  {
   "cell_type": "code",
   "execution_count": 23,
   "metadata": {},
   "outputs": [
    {
     "name": "stdout",
     "output_type": "stream",
     "text": [
      "Leidas 14344391 lineas.\n"
     ]
    }
   ],
   "source": [
    "path='./data/'\n",
    "orig_file='rockyou.txt'\n",
    "data = open(path+orig_file, 'r',encoding='ISO-8859-1').readlines()\n",
    "print(f\"Leidas {len(data)} lineas.\")"
   ]
  },
  {
   "cell_type": "code",
   "execution_count": 24,
   "metadata": {},
   "outputs": [
    {
     "data": {
      "text/plain": [
       "list"
      ]
     },
     "execution_count": 24,
     "metadata": {},
     "output_type": "execute_result"
    }
   ],
   "source": [
    "type(data)"
   ]
  },
  {
   "cell_type": "code",
   "execution_count": 25,
   "metadata": {},
   "outputs": [
    {
     "name": "stdout",
     "output_type": "stream",
     "text": [
      "El nº de líneas únicas es 14344391.\n"
     ]
    }
   ],
   "source": [
    "unique_data=set(data)\n",
    "len_unique_data=len(unique_data)\n",
    "print(f\"El nº de líneas únicas es {len_unique_data}.\")"
   ]
  },
  {
   "cell_type": "code",
   "execution_count": 26,
   "metadata": {},
   "outputs": [],
   "source": [
    "import random\n",
    "\n",
    "tr=0.75\n",
    "ts= 1-tr #0.25\n",
    "train=random.sample(unique_data,int(len_unique_data*tr))\n",
    "test=unique_data-set(train)"
   ]
  },
  {
   "cell_type": "code",
   "execution_count": 29,
   "metadata": {},
   "outputs": [],
   "source": [
    "file_name='train_rockyou.txt'\n",
    "with open(path+file_name, 'w') as f: #encoding='ISO-8859-1'\n",
    "    for line in train:\n",
    "        f.write(f\"{line}\")\n",
    "\n",
    "file_name='test_rockyou.txt'\n",
    "with open(path+file_name, 'w') as f: #encoding='ISO-8859-1'\n",
    "    for line in test:\n",
    "        f.write(f\"{line}\")"
   ]
  },
  {
   "attachments": {},
   "cell_type": "markdown",
   "metadata": {},
   "source": [
    "Análisis Exploratorio"
   ]
  },
  {
   "cell_type": "code",
   "execution_count": 33,
   "metadata": {},
   "outputs": [
    {
     "ename": "AttributeError",
     "evalue": "'list' object has no attribute 'ngrams'",
     "output_type": "error",
     "traceback": [
      "\u001b[0;31m---------------------------------------------------------------------------\u001b[0m",
      "\u001b[0;31mAttributeError\u001b[0m                            Traceback (most recent call last)",
      "Cell \u001b[0;32mIn[33], line 3\u001b[0m\n\u001b[1;32m      1\u001b[0m \u001b[39mimport\u001b[39;00m \u001b[39mutils\u001b[39;00m\n\u001b[1;32m      2\u001b[0m char_ngram_lms \u001b[39m=\u001b[39m [utils\u001b[39m.\u001b[39mNgramLanguageModel(i\u001b[39m+\u001b[39m\u001b[39m1\u001b[39m, data[:\u001b[39m1000\u001b[39m], tokenize\u001b[39m=\u001b[39m\u001b[39mFalse\u001b[39;00m) \u001b[39mfor\u001b[39;00m i \u001b[39min\u001b[39;00m \u001b[39mrange\u001b[39m(\u001b[39m4\u001b[39m)]\n\u001b[0;32m----> 3\u001b[0m char_ngram_lms\u001b[39m.\u001b[39;49mngrams\n",
      "\u001b[0;31mAttributeError\u001b[0m: 'list' object has no attribute 'ngrams'"
     ]
    }
   ],
   "source": [
    "import utils\n",
    "char_ngram_lms = [utils.NgramLanguageModel(i+1, data[:1000], tokenize=False) for i in range(4)]\n",
    "char_ngram_lms.ngrams"
   ]
  },
  {
   "cell_type": "code",
   "execution_count": null,
   "metadata": {},
   "outputs": [],
   "source": []
  }
 ],
 "metadata": {
  "kernelspec": {
   "display_name": "Python 3",
   "language": "python",
   "name": "python3"
  },
  "language_info": {
   "codemirror_mode": {
    "name": "ipython",
    "version": 3
   },
   "file_extension": ".py",
   "mimetype": "text/x-python",
   "name": "python",
   "nbconvert_exporter": "python",
   "pygments_lexer": "ipython3",
   "version": "3.8.9"
  },
  "orig_nbformat": 4,
  "vscode": {
   "interpreter": {
    "hash": "31f2aee4e71d21fbe5cf8b01ff0e069b9275f58929596ceb00d14d90e3e16cd6"
   }
  }
 },
 "nbformat": 4,
 "nbformat_minor": 2
}
